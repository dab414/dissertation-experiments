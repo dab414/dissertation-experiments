{
 "cells": [
  {
   "cell_type": "markdown",
   "metadata": {},
   "source": [
    "## Dissertation Pilot 1\n",
    "How does effort cost vary over probability of switching in a sequence of cued task switching?"
   ]
  },
  {
   "cell_type": "code",
   "execution_count": 1,
   "metadata": {},
   "outputs": [
    {
     "name": "stderr",
     "output_type": "stream",
     "text": [
      "── Attaching packages ─────────────────────────────────────── tidyverse 1.2.1 ──\n",
      "✔ ggplot2 2.2.1     ✔ purrr   0.2.5\n",
      "✔ tibble  1.4.2     ✔ dplyr   0.7.5\n",
      "✔ tidyr   0.8.1     ✔ stringr 1.3.1\n",
      "✔ readr   1.1.1     ✔ forcats 0.3.0\n",
      "── Conflicts ────────────────────────────────────────── tidyverse_conflicts() ──\n",
      "✖ dplyr::filter() masks stats::filter()\n",
      "✖ dplyr::lag()    masks stats::lag()\n"
     ]
    }
   ],
   "source": [
    "library(tidyverse)"
   ]
  },
  {
   "cell_type": "code",
   "execution_count": 2,
   "metadata": {},
   "outputs": [
    {
     "data": {
      "text/html": [
       "<table>\n",
       "<thead><tr><th scope=col>X</th><th scope=col>subject</th><th scope=col>procedure</th><th scope=col>pSwitch</th><th scope=col>stim</th><th scope=col>trial</th><th scope=col>taskcode</th><th scope=col>transition</th><th scope=col>rt</th></tr></thead>\n",
       "<tbody>\n",
       "\t<tr><td>1       </td><td>2       </td><td>cuedproc</td><td>0.2     </td><td>8       </td><td>2       </td><td>mag     </td><td>Rep     </td><td>754     </td></tr>\n",
       "\t<tr><td>2       </td><td>2       </td><td>cuedproc</td><td>0.2     </td><td>3       </td><td>3       </td><td>mag     </td><td>Rep     </td><td>722     </td></tr>\n",
       "\t<tr><td>3       </td><td>2       </td><td>cuedproc</td><td>0.2     </td><td>1       </td><td>4       </td><td>mag     </td><td>Rep     </td><td>635     </td></tr>\n",
       "\t<tr><td>4       </td><td>2       </td><td>cuedproc</td><td>0.2     </td><td>2       </td><td>5       </td><td>mag     </td><td>Rep     </td><td>681     </td></tr>\n",
       "\t<tr><td>5       </td><td>2       </td><td>cuedproc</td><td>0.2     </td><td>7       </td><td>6       </td><td>mag     </td><td>Rep     </td><td>620     </td></tr>\n",
       "\t<tr><td>6       </td><td>2       </td><td>cuedproc</td><td>0.2     </td><td>3       </td><td>7       </td><td>mag     </td><td>Rep     </td><td>738     </td></tr>\n",
       "</tbody>\n",
       "</table>\n"
      ],
      "text/latex": [
       "\\begin{tabular}{r|lllllllll}\n",
       " X & subject & procedure & pSwitch & stim & trial & taskcode & transition & rt\\\\\n",
       "\\hline\n",
       "\t 1        & 2        & cuedproc & 0.2      & 8        & 2        & mag      & Rep      & 754     \\\\\n",
       "\t 2        & 2        & cuedproc & 0.2      & 3        & 3        & mag      & Rep      & 722     \\\\\n",
       "\t 3        & 2        & cuedproc & 0.2      & 1        & 4        & mag      & Rep      & 635     \\\\\n",
       "\t 4        & 2        & cuedproc & 0.2      & 2        & 5        & mag      & Rep      & 681     \\\\\n",
       "\t 5        & 2        & cuedproc & 0.2      & 7        & 6        & mag      & Rep      & 620     \\\\\n",
       "\t 6        & 2        & cuedproc & 0.2      & 3        & 7        & mag      & Rep      & 738     \\\\\n",
       "\\end{tabular}\n"
      ],
      "text/markdown": [
       "\n",
       "X | subject | procedure | pSwitch | stim | trial | taskcode | transition | rt | \n",
       "|---|---|---|---|---|---|\n",
       "| 1        | 2        | cuedproc | 0.2      | 8        | 2        | mag      | Rep      | 754      | \n",
       "| 2        | 2        | cuedproc | 0.2      | 3        | 3        | mag      | Rep      | 722      | \n",
       "| 3        | 2        | cuedproc | 0.2      | 1        | 4        | mag      | Rep      | 635      | \n",
       "| 4        | 2        | cuedproc | 0.2      | 2        | 5        | mag      | Rep      | 681      | \n",
       "| 5        | 2        | cuedproc | 0.2      | 7        | 6        | mag      | Rep      | 620      | \n",
       "| 6        | 2        | cuedproc | 0.2      | 3        | 7        | mag      | Rep      | 738      | \n",
       "\n",
       "\n"
      ],
      "text/plain": [
       "  X subject procedure pSwitch stim trial taskcode transition rt \n",
       "1 1 2       cuedproc  0.2     8    2     mag      Rep        754\n",
       "2 2 2       cuedproc  0.2     3    3     mag      Rep        722\n",
       "3 3 2       cuedproc  0.2     1    4     mag      Rep        635\n",
       "4 4 2       cuedproc  0.2     2    5     mag      Rep        681\n",
       "5 5 2       cuedproc  0.2     7    6     mag      Rep        620\n",
       "6 6 2       cuedproc  0.2     3    7     mag      Rep        738"
      ]
     },
     "metadata": {},
     "output_type": "display_data"
    }
   ],
   "source": [
    "current_data <- read.csv('../data/dissertationPilot.csv')\n",
    "head(current_data)"
   ]
  },
  {
   "cell_type": "code",
   "execution_count": 9,
   "metadata": {},
   "outputs": [
    {
     "data": {
      "text/html": [
       "<table>\n",
       "<thead><tr><th scope=col>subject</th><th scope=col>pSwitch</th><th scope=col>switchCost</th></tr></thead>\n",
       "<tbody>\n",
       "\t<tr><td>2       </td><td>0.0     </td><td>548.5200</td></tr>\n",
       "\t<tr><td>2       </td><td>0.1     </td><td>302.2541</td></tr>\n",
       "\t<tr><td>2       </td><td>0.2     </td><td>134.1093</td></tr>\n",
       "\t<tr><td>2       </td><td>0.3     </td><td>149.5492</td></tr>\n",
       "\t<tr><td>2       </td><td>0.4     </td><td>166.6743</td></tr>\n",
       "\t<tr><td>2       </td><td>0.5     </td><td>112.5882</td></tr>\n",
       "</tbody>\n",
       "</table>\n"
      ],
      "text/latex": [
       "\\begin{tabular}{r|lll}\n",
       " subject & pSwitch & switchCost\\\\\n",
       "\\hline\n",
       "\t 2        & 0.0      & 548.5200\\\\\n",
       "\t 2        & 0.1      & 302.2541\\\\\n",
       "\t 2        & 0.2      & 134.1093\\\\\n",
       "\t 2        & 0.3      & 149.5492\\\\\n",
       "\t 2        & 0.4      & 166.6743\\\\\n",
       "\t 2        & 0.5      & 112.5882\\\\\n",
       "\\end{tabular}\n"
      ],
      "text/markdown": [
       "\n",
       "subject | pSwitch | switchCost | \n",
       "|---|---|---|---|---|---|\n",
       "| 2        | 0.0      | 548.5200 | \n",
       "| 2        | 0.1      | 302.2541 | \n",
       "| 2        | 0.2      | 134.1093 | \n",
       "| 2        | 0.3      | 149.5492 | \n",
       "| 2        | 0.4      | 166.6743 | \n",
       "| 2        | 0.5      | 112.5882 | \n",
       "\n",
       "\n"
      ],
      "text/plain": [
       "  subject pSwitch switchCost\n",
       "1 2       0.0     548.5200  \n",
       "2 2       0.1     302.2541  \n",
       "3 2       0.2     134.1093  \n",
       "4 2       0.3     149.5492  \n",
       "5 2       0.4     166.6743  \n",
       "6 2       0.5     112.5882  "
      ]
     },
     "metadata": {},
     "output_type": "display_data"
    }
   ],
   "source": [
    "## compute switch costs by pSwitch\n",
    "switchCosts <- current_data %>% \n",
    "group_by(subject, transition, pSwitch) %>% \n",
    "summarize(rt = mean(rt)) %>% \n",
    "spread(transition, rt) %>% \n",
    "mutate(switchCost = Switch - Rep) %>% \n",
    "select(-Rep, -Switch)\n",
    "head(switchCosts)"
   ]
  },
  {
   "cell_type": "code",
   "execution_count": 25,
   "metadata": {},
   "outputs": [
    {
     "name": "stderr",
     "output_type": "stream",
     "text": [
      "Warning message:\n",
      "“Removed 2 rows containing missing values (geom_path).”"
     ]
    },
    {
     "data": {},
     "metadata": {},
     "output_type": "display_data"
    },
    {
     "data": {
      "image/png": "[encoded data removed]",
      "text/plain": [
       "plot without title"
      ]
     },
     "metadata": {},
     "output_type": "display_data"
    }
   ],
   "source": [
    "options(repr.plot.height = 4, repr.plot.width = 5)\n",
    "switchCosts %>% \n",
    "group_by(pSwitch) %>% \n",
    "summarize(sc = mean(switchCost), se = sd(switchCost) / n()) %>% \n",
    "ggplot(aes(x = factor(pSwitch), y = sc, group = 1)) + geom_line(size = 2) + \n",
    "geom_ribbon(aes(ymin = sc - se, ymax = sc + se), alpha = .3) "
   ]
  }
 ],
 "metadata": {
  "kernelspec": {
   "display_name": "R",
   "language": "R",
   "name": "ir"
  },
  "language_info": {
   "codemirror_mode": "r",
   "file_extension": ".r",
   "mimetype": "text/x-r-source",
   "name": "R",
   "pygments_lexer": "r",
   "version": "3.4.4"
  }
 },
 "nbformat": 4,
 "nbformat_minor": 2
}
